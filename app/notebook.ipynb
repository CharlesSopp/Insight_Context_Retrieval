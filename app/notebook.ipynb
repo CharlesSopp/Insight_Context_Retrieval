{
 "cells": [
  {
   "cell_type": "code",
   "execution_count": 3,
   "metadata": {},
   "outputs": [],
   "source": [
    "from query_chromadb_utils import query_insights\n",
    "from summarise_previous_actions_utils import get_all_close_notes, get_close_note_summary\n",
    "from langchain_community.callbacks import get_openai_callback\n"
   ]
  },
  {
   "cell_type": "code",
   "execution_count": 6,
   "metadata": {},
   "outputs": [],
   "source": [
    "inc_eventNames = ['idleInterval.Host Status.dataSourceAlert', 'PeerAlert.OSPF Neighbors.dataSourceAlert']\n",
    "inc_eventObjects = [\"OSPF_Neighbors-172.21.244.131\"]\n",
    "inc_eventCIs = [\"r-BRLE-phs-01\"]\n",
    "\n",
    "matching_ids = list(query_insights(inc_eventNames, inc_eventObjects, inc_eventCIs, threshold=0.15)['id'])"
   ]
  }
 ],
 "metadata": {
  "kernelspec": {
   "display_name": ".venv",
   "language": "python",
   "name": "python3"
  },
  "language_info": {
   "codemirror_mode": {
    "name": "ipython",
    "version": 3
   },
   "file_extension": ".py",
   "mimetype": "text/x-python",
   "name": "python",
   "nbconvert_exporter": "python",
   "pygments_lexer": "ipython3",
   "version": "3.11.9"
  }
 },
 "nbformat": 4,
 "nbformat_minor": 2
}
